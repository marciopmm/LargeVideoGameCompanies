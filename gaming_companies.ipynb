{
 "cells": [
  {
   "cell_type": "code",
   "execution_count": 1,
   "metadata": {},
   "outputs": [
    {
     "data": {
      "text/html": [
       "        <script type=\"text/javascript\">\n",
       "        window.PlotlyConfig = {MathJaxConfig: 'local'};\n",
       "        if (window.MathJax && window.MathJax.Hub && window.MathJax.Hub.Config) {window.MathJax.Hub.Config({SVG: {font: \"STIX-Web\"}});}\n",
       "        if (typeof require !== 'undefined') {\n",
       "        require.undef(\"plotly\");\n",
       "        requirejs.config({\n",
       "            paths: {\n",
       "                'plotly': ['https://cdn.plot.ly/plotly-2.12.1.min']\n",
       "            }\n",
       "        });\n",
       "        require(['plotly'], function(Plotly) {\n",
       "            window._Plotly = Plotly;\n",
       "        });\n",
       "        }\n",
       "        </script>\n",
       "        "
      ]
     },
     "metadata": {},
     "output_type": "display_data"
    }
   ],
   "source": [
    "import numpy as np # linear algebra\n",
    "import pandas as pd # data processing, CSV file I/O (e.g. pd.read_csv)\n",
    "\n",
    "import matplotlib.pyplot as plt\n",
    "%matplotlib inline\n",
    "\n",
    "import seaborn as sns\n",
    "import plotly.express as px\n",
    "from plotly.offline import init_notebook_mode, iplot\n",
    "init_notebook_mode(connected=True)\n",
    "import plotly.graph_objs as go\n",
    "import warnings\n",
    "\n",
    "warnings.filterwarnings(\"ignore\")\n",
    "sns.set_style(\"darkgrid\")\n",
    "\n",
    "import os\n",
    "for dirname, _, filenames in os.walk('/kaggle/input'):\n",
    "    for filename in filenames:\n",
    "        print(os.path.join(dirname, filename))"
   ]
  },
  {
   "cell_type": "code",
   "execution_count": 2,
   "metadata": {},
   "outputs": [
    {
     "data": {
      "text/html": [
       "<div>\n",
       "<style scoped>\n",
       "    .dataframe tbody tr th:only-of-type {\n",
       "        vertical-align: middle;\n",
       "    }\n",
       "\n",
       "    .dataframe tbody tr th {\n",
       "        vertical-align: top;\n",
       "    }\n",
       "\n",
       "    .dataframe thead th {\n",
       "        text-align: right;\n",
       "    }\n",
       "</style>\n",
       "<table border=\"1\" class=\"dataframe\">\n",
       "  <thead>\n",
       "    <tr style=\"text-align: right;\">\n",
       "      <th></th>\n",
       "      <th>Name</th>\n",
       "      <th>marketcap</th>\n",
       "      <th>earnings</th>\n",
       "      <th>employeeCount</th>\n",
       "      <th>OperatingMargin</th>\n",
       "      <th>PERatio</th>\n",
       "      <th>Revenue</th>\n",
       "      <th>country</th>\n",
       "    </tr>\n",
       "  </thead>\n",
       "  <tbody>\n",
       "    <tr>\n",
       "      <th>0</th>\n",
       "      <td>11 bit studios</td>\n",
       "      <td>2.600171e+08</td>\n",
       "      <td>8147710</td>\n",
       "      <td>192</td>\n",
       "      <td>4583.070</td>\n",
       "      <td>40.888100</td>\n",
       "      <td>1.777785e+07</td>\n",
       "      <td>Poland</td>\n",
       "    </tr>\n",
       "    <tr>\n",
       "      <th>1</th>\n",
       "      <td>Activision Blizzard</td>\n",
       "      <td>5.835960e+10</td>\n",
       "      <td>2972000000</td>\n",
       "      <td>9500</td>\n",
       "      <td>3582.020</td>\n",
       "      <td>23.471700</td>\n",
       "      <td>8.297000e+09</td>\n",
       "      <td>United States</td>\n",
       "    </tr>\n",
       "    <tr>\n",
       "      <th>2</th>\n",
       "      <td>Appirits</td>\n",
       "      <td>3.008261e+07</td>\n",
       "      <td>1591300</td>\n",
       "      <td>411</td>\n",
       "      <td>372.253</td>\n",
       "      <td>31.000000</td>\n",
       "      <td>4.274776e+07</td>\n",
       "      <td>Japan</td>\n",
       "    </tr>\n",
       "    <tr>\n",
       "      <th>3</th>\n",
       "      <td>Aristocrat</td>\n",
       "      <td>1.551363e+10</td>\n",
       "      <td>778411000</td>\n",
       "      <td>7000</td>\n",
       "      <td>2266.820</td>\n",
       "      <td>14.297000</td>\n",
       "      <td>3.433941e+09</td>\n",
       "      <td>Australia</td>\n",
       "    </tr>\n",
       "    <tr>\n",
       "      <th>4</th>\n",
       "      <td>ATARI</td>\n",
       "      <td>4.923000e+07</td>\n",
       "      <td>-13476800</td>\n",
       "      <td>26</td>\n",
       "      <td>-6296.300</td>\n",
       "      <td>-3.000000</td>\n",
       "      <td>2.140430e+07</td>\n",
       "      <td>France</td>\n",
       "    </tr>\n",
       "    <tr>\n",
       "      <th>...</th>\n",
       "      <td>...</td>\n",
       "      <td>...</td>\n",
       "      <td>...</td>\n",
       "      <td>...</td>\n",
       "      <td>...</td>\n",
       "      <td>...</td>\n",
       "      <td>...</td>\n",
       "      <td>...</td>\n",
       "    </tr>\n",
       "    <tr>\n",
       "      <th>74</th>\n",
       "      <td>Unity Software</td>\n",
       "      <td>9.993398e+09</td>\n",
       "      <td>-590918000</td>\n",
       "      <td>4934</td>\n",
       "      <td>-4941.280</td>\n",
       "      <td>-16.076200</td>\n",
       "      <td>1.195880e+09</td>\n",
       "      <td>United States</td>\n",
       "    </tr>\n",
       "    <tr>\n",
       "      <th>75</th>\n",
       "      <td>Versus Systems</td>\n",
       "      <td>1.169109e+07</td>\n",
       "      <td>-11545800</td>\n",
       "      <td>0</td>\n",
       "      <td>-153192.000</td>\n",
       "      <td>-0.823529</td>\n",
       "      <td>7.536780e+05</td>\n",
       "      <td>Canada</td>\n",
       "    </tr>\n",
       "    <tr>\n",
       "      <th>76</th>\n",
       "      <td>Webzen</td>\n",
       "      <td>5.007477e+08</td>\n",
       "      <td>0</td>\n",
       "      <td>0</td>\n",
       "      <td>0.000</td>\n",
       "      <td>0.000000</td>\n",
       "      <td>0.000000e+00</td>\n",
       "      <td>South Korea</td>\n",
       "    </tr>\n",
       "    <tr>\n",
       "      <th>77</th>\n",
       "      <td>Wemade</td>\n",
       "      <td>8.686795e+08</td>\n",
       "      <td>0</td>\n",
       "      <td>0</td>\n",
       "      <td>0.000</td>\n",
       "      <td>0.000000</td>\n",
       "      <td>0.000000e+00</td>\n",
       "      <td>South Korea</td>\n",
       "    </tr>\n",
       "    <tr>\n",
       "      <th>78</th>\n",
       "      <td>WonderPlanet</td>\n",
       "      <td>3.043914e+07</td>\n",
       "      <td>-1386590</td>\n",
       "      <td>0</td>\n",
       "      <td>-498.975</td>\n",
       "      <td>4.037680</td>\n",
       "      <td>2.778869e+07</td>\n",
       "      <td>Japan</td>\n",
       "    </tr>\n",
       "  </tbody>\n",
       "</table>\n",
       "<p>79 rows × 8 columns</p>\n",
       "</div>"
      ],
      "text/plain": [
       "                   Name     marketcap    earnings  employeeCount  \\\n",
       "0        11 bit studios  2.600171e+08     8147710            192   \n",
       "1   Activision Blizzard  5.835960e+10  2972000000           9500   \n",
       "2              Appirits  3.008261e+07     1591300            411   \n",
       "3            Aristocrat  1.551363e+10   778411000           7000   \n",
       "4                 ATARI  4.923000e+07   -13476800             26   \n",
       "..                  ...           ...         ...            ...   \n",
       "74       Unity Software  9.993398e+09  -590918000           4934   \n",
       "75       Versus Systems  1.169109e+07   -11545800              0   \n",
       "76               Webzen  5.007477e+08           0              0   \n",
       "77               Wemade  8.686795e+08           0              0   \n",
       "78         WonderPlanet  3.043914e+07    -1386590              0   \n",
       "\n",
       "    OperatingMargin    PERatio       Revenue        country  \n",
       "0          4583.070  40.888100  1.777785e+07         Poland  \n",
       "1          3582.020  23.471700  8.297000e+09  United States  \n",
       "2           372.253  31.000000  4.274776e+07          Japan  \n",
       "3          2266.820  14.297000  3.433941e+09      Australia  \n",
       "4         -6296.300  -3.000000  2.140430e+07         France  \n",
       "..              ...        ...           ...            ...  \n",
       "74        -4941.280 -16.076200  1.195880e+09  United States  \n",
       "75      -153192.000  -0.823529  7.536780e+05         Canada  \n",
       "76            0.000   0.000000  0.000000e+00    South Korea  \n",
       "77            0.000   0.000000  0.000000e+00    South Korea  \n",
       "78         -498.975   4.037680  2.778869e+07          Japan  \n",
       "\n",
       "[79 rows x 8 columns]"
      ]
     },
     "execution_count": 2,
     "metadata": {},
     "output_type": "execute_result"
    }
   ],
   "source": [
    "df = pd.read_csv(\"input/GamingCompanies-Main.csv\")\n",
    "\n",
    "df"
   ]
  },
  {
   "cell_type": "markdown",
   "metadata": {},
   "source": [
    "3. Cleaning rows/companies for which there's no data"
   ]
  },
  {
   "cell_type": "code",
   "execution_count": 4,
   "metadata": {},
   "outputs": [],
   "source": [
    "df = df[df['earnings'] > 0]"
   ]
  },
  {
   "cell_type": "markdown",
   "metadata": {},
   "source": [
    "## Number of Gaming Companies (by Country)"
   ]
  },
  {
   "cell_type": "code",
   "execution_count": 61,
   "metadata": {},
   "outputs": [
    {
     "data": {
      "image/png": "[encoded data removed]",
      "text/plain": [
       "<Figure size 1080x504 with 1 Axes>"
      ]
     },
     "metadata": {},
     "output_type": "display_data"
    }
   ],
   "source": [
    "fig = plt.figure(figsize=(15, 7))\n",
    "plt.title('Number of Gaming Companies (by Country)', fontsize=20)\n",
    "plt.tick_params(axis='both', which='major', labelsize=14)\n",
    "plt.xticks(rotation=60)\n",
    "\n",
    "ax = sns.countplot(x='country', data=df)\n",
    "\n",
    "for i in ax.containers:\n",
    "    ax.bar_label(i,)"
   ]
  },
  {
   "cell_type": "markdown",
   "metadata": {},
   "source": [
    "## Number of Employees in Game Industry (by Country) "
   ]
  },
  {
   "cell_type": "code",
   "execution_count": 56,
   "metadata": {},
   "outputs": [
    {
     "data": {
      "image/png": "[encoded data removed]",
      "text/plain": [
       "<Figure size 1080x504 with 1 Axes>"
      ]
     },
     "metadata": {},
     "output_type": "display_data"
    }
   ],
   "source": [
    "fig = plt.figure(figsize=(15, 7))\n",
    "plt.title('Number of Employees (by Country)', fontsize=20)\n",
    "plt.tick_params(axis='both', which='major', labelsize=14)\n",
    "plt.xticks(rotation=60)\n",
    "\n",
    "ax = sns.barplot(x='country', y='employeeCount', data=df, ci=None, estimator=np.sum)\n",
    "\n",
    "for i in ax.containers:\n",
    "    ax.bar_label(i,)"
   ]
  },
  {
   "cell_type": "code",
   "execution_count": 8,
   "metadata": {},
   "outputs": [
    {
     "data": {
      "application/vnd.plotly.v1+json": {
       "config": {
        "plotlyServerURL": "https://plot.ly"
       },
       "data": [
        {
         "hovertemplate": "<b>%{hovertext}</b><br><br>country=Poland<br>Revenue=%{x}<br>earnings=%{y}<br>employeeCount=%{marker.size}<extra></extra>",
         "hovertext": [
          "11 bit studios",
          "CD Projekt",
          "CI Games",
          "People Can Fly",
          "PlayWay",
          "Ten Square Games"
         ],
         "legendgroup": "Poland",
         "marker": {
          "color": "#636efa",
          "size": [
           192,
           1177,
           156,
           281,
           0,
           147
          ],
          "sizemode": "area",
          "sizeref": 50.27777777777778,
          "symbol": "circle"
         },
         "mode": "markers",
         "name": "Poland",
         "orientation": "v",
         "showlegend": true,
         "type": "scatter",
         "x": [
          17777847,
          225248046,
          26872479,
          45624454,
          59061815,
          160651221
         ],
         "xaxis": "x",
         "y": [
          8147710,
          56327200,
          10903800,
          16585000,
          39553600,
          41661100
         ],
         "yaxis": "y"
        },
        {
         "hovertemplate": "<b>%{hovertext}</b><br><br>country=United States<br>Revenue=%{x}<br>earnings=%{y}<br>employeeCount=%{marker.size}<extra></extra>",
         "hovertext": [
          "Activision Blizzard",
          "Corsair Gaming",
          "DoubleDown Interactive",
          "Electronic Arts",
          "Microsoft",
          "Razer",
          "SciPlay",
          "Take 2 Interactive"
         ],
         "legendgroup": "United States",
         "marker": {
          "color": "#EF553B",
          "size": [
           9500,
           2490,
           281,
           11000,
           181000,
           1526,
           511,
           6495
          ],
          "sizemode": "area",
          "sizeref": 50.27777777777778,
          "symbol": "circle"
         },
         "mode": "markers",
         "name": "United States",
         "orientation": "v",
         "showlegend": true,
         "type": "scatter",
         "x": [
          8297000000,
          1755337000,
          352024000,
          6991000000,
          192557000000,
          1619590000,
          613000000,
          3504800000
         ],
         "xaxis": "x",
         "y": [
          2972000000,
          64385000,
          100996000,
          1131000000,
          84754000000,
          55114000,
          159400000,
          485926000
         ],
         "yaxis": "y"
        },
        {
         "hovertemplate": "<b>%{hovertext}</b><br><br>country=Japan<br>Revenue=%{x}<br>earnings=%{y}<br>employeeCount=%{marker.size}<extra></extra>",
         "hovertext": [
          "Appirits",
          "Bandai Namco",
          "Bushiroad",
          "Capcom",
          "COLOPL",
          "CyberAgent",
          "DeNA",
          "Drecom",
          "enish",
          "geechs",
          "Gree",
          "GungHo Online Entertainment",
          "Koei Tecmo",
          "Konami Holdings",
          "Marvelous",
          "Mixi",
          "Nexon",
          "Nintendo",
          "Sega Sammy Holdings",
          "Sony",
          "Square Enix"
         ],
         "legendgroup": "Japan",
         "marker": {
          "color": "#00cc96",
          "size": [
           411,
           9550,
           620,
           3152,
           1449,
           5944,
           2100,
           384,
           100,
           357,
           1543,
           1335,
           0,
           4982,
           582,
           1168,
           0,
           6574,
           7535,
           109700,
           5550
          ],
          "sizemode": "area",
          "sizeref": 50.27777777777778,
          "symbol": "circle"
         },
         "mode": "markers",
         "name": "Japan",
         "orientation": "v",
         "showlegend": true,
         "type": "scatter",
         "x": [
          42747761,
          7366324185,
          342970528,
          1064662967,
          291985856,
          6397828877,
          1190576400,
          96103805,
          40628336,
          49215086,
          588734186,
          866924595,
          641069954,
          2642404071,
          243161457,
          1006787371,
          2402217692,
          14875313016,
          2709650435,
          86483521753,
          3149372304
         ],
         "xaxis": "x",
         "y": [
          1591300,
          855030000,
          24925400,
          421968000,
          37798600,
          997504000,
          305924000,
          15348600,
          1383920,
          10611300,
          109218000,
          294615000,
          286464000,
          499832000,
          47522000,
          167772000,
          1168310000,
          6022310000,
          307653000,
          10806300000,
          579566000
         ],
         "yaxis": "y"
        },
        {
         "hovertemplate": "<b>%{hovertext}</b><br><br>country=Australia<br>Revenue=%{x}<br>earnings=%{y}<br>employeeCount=%{marker.size}<extra></extra>",
         "hovertext": [
          "Aristocrat"
         ],
         "legendgroup": "Australia",
         "marker": {
          "color": "#ab63fa",
          "size": [
           7000
          ],
          "sizemode": "area",
          "sizeref": 50.27777777777778,
          "symbol": "circle"
         },
         "mode": "markers",
         "name": "Australia",
         "orientation": "v",
         "showlegend": true,
         "type": "scatter",
         "x": [
          3433941253
         ],
         "xaxis": "x",
         "y": [
          778411000
         ],
         "yaxis": "y"
        },
        {
         "hovertemplate": "<b>%{hovertext}</b><br><br>country=China<br>Revenue=%{x}<br>earnings=%{y}<br>employeeCount=%{marker.size}<extra></extra>",
         "hovertext": [
          "Blue Hat",
          "NetEase",
          "Perfect World Entertainment",
          "Tencent"
         ],
         "legendgroup": "China",
         "marker": {
          "color": "#FFA15A",
          "size": [
           110,
           28239,
           5665,
           112771
          ],
          "sizemode": "area",
          "sizeref": 50.27777777777778,
          "symbol": "circle"
         },
         "mode": "markers",
         "name": "China",
         "orientation": "v",
         "showlegend": true,
         "type": "scatter",
         "x": [
          52627727,
          13553078918,
          1311664606,
          86616693449
         ],
         "xaxis": "x",
         "y": [
          12263800,
          2538860000,
          106448000,
          39673900000
         ],
         "yaxis": "y"
        },
        {
         "hovertemplate": "<b>%{hovertext}</b><br><br>country=Italy<br>Revenue=%{x}<br>earnings=%{y}<br>employeeCount=%{marker.size}<extra></extra>",
         "hovertext": [
          "Digital Bros"
         ],
         "legendgroup": "Italy",
         "marker": {
          "color": "#19d3f3",
          "size": [
           330
          ],
          "sizemode": "area",
          "sizeref": 50.27777777777778,
          "symbol": "circle"
         },
         "mode": "markers",
         "name": "Italy",
         "orientation": "v",
         "showlegend": true,
         "type": "scatter",
         "x": [
          143969494
         ],
         "xaxis": "x",
         "y": [
          32903700
         ],
         "yaxis": "y"
        },
        {
         "hovertemplate": "<b>%{hovertext}</b><br><br>country=Isle of Man<br>Revenue=%{x}<br>earnings=%{y}<br>employeeCount=%{marker.size}<extra></extra>",
         "hovertext": [
          "Entain",
          "Playtech"
         ],
         "legendgroup": "Isle of Man",
         "marker": {
          "color": "#FF6692",
          "size": [
           13849,
           7000
          ],
          "sizemode": "area",
          "sizeref": 50.27777777777778,
          "symbol": "circle"
         },
         "mode": "markers",
         "name": "Isle of Man",
         "orientation": "v",
         "showlegend": true,
         "type": "scatter",
         "x": [
          5169877030,
          1365118913
         ],
         "xaxis": "x",
         "y": [
          634828000,
          739071000
         ],
         "yaxis": "y"
        },
        {
         "hovertemplate": "<b>%{hovertext}</b><br><br>country=France<br>Revenue=%{x}<br>earnings=%{y}<br>employeeCount=%{marker.size}<extra></extra>",
         "hovertext": [
          "Focus Home Interactive",
          "Nacon",
          "Ubisoft"
         ],
         "legendgroup": "France",
         "marker": {
          "color": "#B6E880",
          "size": [
           146,
           700,
           0
          ],
          "sizemode": "area",
          "sizeref": 50.27777777777778,
          "symbol": "circle"
         },
         "mode": "markers",
         "name": "France",
         "orientation": "v",
         "showlegend": true,
         "type": "scatter",
         "x": [
          193653454,
          201398641,
          2240590406
         ],
         "xaxis": "x",
         "y": [
          22909400,
          30559500,
          227833000
         ],
         "yaxis": "y"
        },
        {
         "hovertemplate": "<b>%{hovertext}</b><br><br>country=United Kingdom<br>Revenue=%{x}<br>earnings=%{y}<br>employeeCount=%{marker.size}<extra></extra>",
         "hovertext": [
          "Frontier Developments",
          "Team17"
         ],
         "legendgroup": "United Kingdom",
         "marker": {
          "color": "#FF97FF",
          "size": [
           745,
           262
          ],
          "sizemode": "area",
          "sizeref": 50.27777777777778,
          "symbol": "circle"
         },
         "mode": "markers",
         "name": "United Kingdom",
         "orientation": "v",
         "showlegend": true,
         "type": "scatter",
         "x": [
          122414049,
          122172428
         ],
         "xaxis": "x",
         "y": [
          26883400,
          39486800
         ],
         "yaxis": "y"
        },
        {
         "hovertemplate": "<b>%{hovertext}</b><br><br>country=South Korea<br>Revenue=%{x}<br>earnings=%{y}<br>employeeCount=%{marker.size}<extra></extra>",
         "hovertext": [
          "Gravity Co.",
          "Krafton",
          "NCsoft",
          "Netmarble"
         ],
         "legendgroup": "South Korea",
         "marker": {
          "color": "#FECB52",
          "size": [
           279,
           1487,
           0,
           0
          ],
          "sizemode": "area",
          "sizeref": 50.27777777777778,
          "symbol": "circle"
         },
         "mode": "markers",
         "name": "South Korea",
         "orientation": "v",
         "showlegend": true,
         "type": "scatter",
         "x": [
          320380802,
          1651127316,
          2187239109,
          2175712305
         ],
         "xaxis": "x",
         "y": [
          81585000,
          885671000,
          1002590000,
          212466000
         ],
         "yaxis": "y"
        },
        {
         "hovertemplate": "<b>%{hovertext}</b><br><br>country=Ireland<br>Revenue=%{x}<br>earnings=%{y}<br>employeeCount=%{marker.size}<extra></extra>",
         "hovertext": [
          "Keywords Studios"
         ],
         "legendgroup": "Ireland",
         "marker": {
          "color": "#636efa",
          "size": [
           7400
          ],
          "sizemode": "area",
          "sizeref": 50.27777777777778,
          "symbol": "circle"
         },
         "mode": "markers",
         "name": "Ireland",
         "orientation": "v",
         "showlegend": true,
         "type": "scatter",
         "x": [
          580067950
         ],
         "xaxis": "x",
         "y": [
          58765600
         ],
         "yaxis": "y"
        },
        {
         "hovertemplate": "<b>%{hovertext}</b><br><br>country=India<br>Revenue=%{x}<br>earnings=%{y}<br>employeeCount=%{marker.size}<extra></extra>",
         "hovertext": [
          "Nazara Technologies"
         ],
         "legendgroup": "India",
         "marker": {
          "color": "#EF553B",
          "size": [
           0
          ],
          "sizemode": "area",
          "sizeref": 50.27777777777778,
          "symbol": "circle"
         },
         "mode": "markers",
         "name": "India",
         "orientation": "v",
         "showlegend": true,
         "type": "scatter",
         "x": [
          61949879
         ],
         "xaxis": "x",
         "y": [
          4193680
         ],
         "yaxis": "y"
        },
        {
         "hovertemplate": "<b>%{hovertext}</b><br><br>country=Sweden<br>Revenue=%{x}<br>earnings=%{y}<br>employeeCount=%{marker.size}<extra></extra>",
         "hovertext": [
          "Paradox Interactive"
         ],
         "legendgroup": "Sweden",
         "marker": {
          "color": "#00cc96",
          "size": [
           742
          ],
          "sizemode": "area",
          "sizeref": 50.27777777777778,
          "symbol": "circle"
         },
         "mode": "markers",
         "name": "Sweden",
         "orientation": "v",
         "showlegend": true,
         "type": "scatter",
         "x": [
          174940986
         ],
         "xaxis": "x",
         "y": [
          47011200
         ],
         "yaxis": "y"
        },
        {
         "hovertemplate": "<b>%{hovertext}</b><br><br>country=Israel<br>Revenue=%{x}<br>earnings=%{y}<br>employeeCount=%{marker.size}<extra></extra>",
         "hovertext": [
          "Playtika"
         ],
         "legendgroup": "Israel",
         "marker": {
          "color": "#ab63fa",
          "size": [
           3800
          ],
          "sizemode": "area",
          "sizeref": 50.27777777777778,
          "symbol": "circle"
         },
         "mode": "markers",
         "name": "Israel",
         "orientation": "v",
         "showlegend": true,
         "type": "scatter",
         "x": [
          2621000000
         ],
         "xaxis": "x",
         "y": [
          547100000
         ],
         "yaxis": "y"
        },
        {
         "hovertemplate": "<b>%{hovertext}</b><br><br>country=Finland<br>Revenue=%{x}<br>earnings=%{y}<br>employeeCount=%{marker.size}<extra></extra>",
         "hovertext": [
          "Rovio Entertainment"
         ],
         "legendgroup": "Finland",
         "marker": {
          "color": "#FFA15A",
          "size": [
           479
          ],
          "sizemode": "area",
          "sizeref": 50.27777777777778,
          "symbol": "circle"
         },
         "mode": "markers",
         "name": "Finland",
         "orientation": "v",
         "showlegend": true,
         "type": "scatter",
         "x": [
          348977951
         ],
         "xaxis": "x",
         "y": [
          44455300
         ],
         "yaxis": "y"
        }
       ],
       "layout": {
        "height": 600,
        "legend": {
         "itemsizing": "constant",
         "title": {
          "text": "country"
         },
         "tracegroupgap": 0
        },
        "template": {
         "data": {
          "bar": [
           {
            "error_x": {
             "color": "#2a3f5f"
            },
            "error_y": {
             "color": "#2a3f5f"
            },
            "marker": {
             "line": {
              "color": "#E5ECF6",
              "width": 0.5
             },
             "pattern": {
              "fillmode": "overlay",
              "size": 10,
              "solidity": 0.2
             }
            },
            "type": "bar"
           }
          ],
          "barpolar": [
           {
            "marker": {
             "line": {
              "color": "#E5ECF6",
              "width": 0.5
             },
             "pattern": {
              "fillmode": "overlay",
              "size": 10,
              "solidity": 0.2
             }
            },
            "type": "barpolar"
           }
          ],
          "carpet": [
           {
            "aaxis": {
             "endlinecolor": "#2a3f5f",
             "gridcolor": "white",
             "linecolor": "white",
             "minorgridcolor": "white",
             "startlinecolor": "#2a3f5f"
            },
            "baxis": {
             "endlinecolor": "#2a3f5f",
             "gridcolor": "white",
             "linecolor": "white",
             "minorgridcolor": "white",
             "startlinecolor": "#2a3f5f"
            },
            "type": "carpet"
           }
          ],
          "choropleth": [
           {
            "colorbar": {
             "outlinewidth": 0,
             "ticks": ""
            },
            "type": "choropleth"
           }
          ],
          "contour": [
           {
            "colorbar": {
             "outlinewidth": 0,
             "ticks": ""
            },
            "colorscale": [
             [
              0,
              "#0d0887"
             ],
             [
              0.1111111111111111,
              "#46039f"
             ],
             [
              0.2222222222222222,
              "#7201a8"
             ],
             [
              0.3333333333333333,
              "#9c179e"
             ],
             [
              0.4444444444444444,
              "#bd3786"
             ],
             [
              0.5555555555555556,
              "#d8576b"
             ],
             [
              0.6666666666666666,
              "#ed7953"
             ],
             [
              0.7777777777777778,
              "#fb9f3a"
             ],
             [
              0.8888888888888888,
              "#fdca26"
             ],
             [
              1,
              "#f0f921"
             ]
            ],
            "type": "contour"
           }
          ],
          "contourcarpet": [
           {
            "colorbar": {
             "outlinewidth": 0,
             "ticks": ""
            },
            "type": "contourcarpet"
           }
          ],
          "heatmap": [
           {
            "colorbar": {
             "outlinewidth": 0,
             "ticks": ""
            },
            "colorscale": [
             [
              0,
              "#0d0887"
             ],
             [
              0.1111111111111111,
              "#46039f"
             ],
             [
              0.2222222222222222,
              "#7201a8"
             ],
             [
              0.3333333333333333,
              "#9c179e"
             ],
             [
              0.4444444444444444,
              "#bd3786"
             ],
             [
              0.5555555555555556,
              "#d8576b"
             ],
             [
              0.6666666666666666,
              "#ed7953"
             ],
             [
              0.7777777777777778,
              "#fb9f3a"
             ],
             [
              0.8888888888888888,
              "#fdca26"
             ],
             [
              1,
              "#f0f921"
             ]
            ],
            "type": "heatmap"
           }
          ],
          "heatmapgl": [
           {
            "colorbar": {
             "outlinewidth": 0,
             "ticks": ""
            },
            "colorscale": [
             [
              0,
              "#0d0887"
             ],
             [
              0.1111111111111111,
              "#46039f"
             ],
             [
              0.2222222222222222,
              "#7201a8"
             ],
             [
              0.3333333333333333,
              "#9c179e"
             ],
             [
              0.4444444444444444,
              "#bd3786"
             ],
             [
              0.5555555555555556,
              "#d8576b"
             ],
             [
              0.6666666666666666,
              "#ed7953"
             ],
             [
              0.7777777777777778,
              "#fb9f3a"
             ],
             [
              0.8888888888888888,
              "#fdca26"
             ],
             [
              1,
              "#f0f921"
             ]
            ],
            "type": "heatmapgl"
           }
          ],
          "histogram": [
           {
            "marker": {
             "pattern": {
              "fillmode": "overlay",
              "size": 10,
              "solidity": 0.2
             }
            },
            "type": "histogram"
           }
          ],
          "histogram2d": [
           {
            "colorbar": {
             "outlinewidth": 0,
             "ticks": ""
            },
            "colorscale": [
             [
              0,
              "#0d0887"
             ],
             [
              0.1111111111111111,
              "#46039f"
             ],
             [
              0.2222222222222222,
              "#7201a8"
             ],
             [
              0.3333333333333333,
              "#9c179e"
             ],
             [
              0.4444444444444444,
              "#bd3786"
             ],
             [
              0.5555555555555556,
              "#d8576b"
             ],
             [
              0.6666666666666666,
              "#ed7953"
             ],
             [
              0.7777777777777778,
              "#fb9f3a"
             ],
             [
              0.8888888888888888,
              "#fdca26"
             ],
             [
              1,
              "#f0f921"
             ]
            ],
            "type": "histogram2d"
           }
          ],
          "histogram2dcontour": [
           {
            "colorbar": {
             "outlinewidth": 0,
             "ticks": ""
            },
            "colorscale": [
             [
              0,
              "#0d0887"
             ],
             [
              0.1111111111111111,
              "#46039f"
             ],
             [
              0.2222222222222222,
              "#7201a8"
             ],
             [
              0.3333333333333333,
              "#9c179e"
             ],
             [
              0.4444444444444444,
              "#bd3786"
             ],
             [
              0.5555555555555556,
              "#d8576b"
             ],
             [
              0.6666666666666666,
              "#ed7953"
             ],
             [
              0.7777777777777778,
              "#fb9f3a"
             ],
             [
              0.8888888888888888,
              "#fdca26"
             ],
             [
              1,
              "#f0f921"
             ]
            ],
            "type": "histogram2dcontour"
           }
          ],
          "mesh3d": [
           {
            "colorbar": {
             "outlinewidth": 0,
             "ticks": ""
            },
            "type": "mesh3d"
           }
          ],
          "parcoords": [
           {
            "line": {
             "colorbar": {
              "outlinewidth": 0,
              "ticks": ""
             }
            },
            "type": "parcoords"
           }
          ],
          "pie": [
           {
            "automargin": true,
            "type": "pie"
           }
          ],
          "scatter": [
           {
            "fillpattern": {
             "fillmode": "overlay",
             "size": 10,
             "solidity": 0.2
            },
            "type": "scatter"
           }
          ],
          "scatter3d": [
           {
            "line": {
             "colorbar": {
              "outlinewidth": 0,
              "ticks": ""
             }
            },
            "marker": {
             "colorbar": {
              "outlinewidth": 0,
              "ticks": ""
             }
            },
            "type": "scatter3d"
           }
          ],
          "scattercarpet": [
           {
            "marker": {
             "colorbar": {
              "outlinewidth": 0,
              "ticks": ""
             }
            },
            "type": "scattercarpet"
           }
          ],
          "scattergeo": [
           {
            "marker": {
             "colorbar": {
              "outlinewidth": 0,
              "ticks": ""
             }
            },
            "type": "scattergeo"
           }
          ],
          "scattergl": [
           {
            "marker": {
             "colorbar": {
              "outlinewidth": 0,
              "ticks": ""
             }
            },
            "type": "scattergl"
           }
          ],
          "scattermapbox": [
           {
            "marker": {
             "colorbar": {
              "outlinewidth": 0,
              "ticks": ""
             }
            },
            "type": "scattermapbox"
           }
          ],
          "scatterpolar": [
           {
            "marker": {
             "colorbar": {
              "outlinewidth": 0,
              "ticks": ""
             }
            },
            "type": "scatterpolar"
           }
          ],
          "scatterpolargl": [
           {
            "marker": {
             "colorbar": {
              "outlinewidth": 0,
              "ticks": ""
             }
            },
            "type": "scatterpolargl"
           }
          ],
          "scatterternary": [
           {
            "marker": {
             "colorbar": {
              "outlinewidth": 0,
              "ticks": ""
             }
            },
            "type": "scatterternary"
           }
          ],
          "surface": [
           {
            "colorbar": {
             "outlinewidth": 0,
             "ticks": ""
            },
            "colorscale": [
             [
              0,
              "#0d0887"
             ],
             [
              0.1111111111111111,
              "#46039f"
             ],
             [
              0.2222222222222222,
              "#7201a8"
             ],
             [
              0.3333333333333333,
              "#9c179e"
             ],
             [
              0.4444444444444444,
              "#bd3786"
             ],
             [
              0.5555555555555556,
              "#d8576b"
             ],
             [
              0.6666666666666666,
              "#ed7953"
             ],
             [
              0.7777777777777778,
              "#fb9f3a"
             ],
             [
              0.8888888888888888,
              "#fdca26"
             ],
             [
              1,
              "#f0f921"
             ]
            ],
            "type": "surface"
           }
          ],
          "table": [
           {
            "cells": {
             "fill": {
              "color": "#EBF0F8"
             },
             "line": {
              "color": "white"
             }
            },
            "header": {
             "fill": {
              "color": "#C8D4E3"
             },
             "line": {
              "color": "white"
             }
            },
            "type": "table"
           }
          ]
         },
         "layout": {
          "annotationdefaults": {
           "arrowcolor": "#2a3f5f",
           "arrowhead": 0,
           "arrowwidth": 1
          },
          "autotypenumbers": "strict",
          "coloraxis": {
           "colorbar": {
            "outlinewidth": 0,
            "ticks": ""
           }
          },
          "colorscale": {
           "diverging": [
            [
             0,
             "#8e0152"
            ],
            [
             0.1,
             "#c51b7d"
            ],
            [
             0.2,
             "#de77ae"
            ],
            [
             0.3,
             "#f1b6da"
            ],
            [
             0.4,
             "#fde0ef"
            ],
            [
             0.5,
             "#f7f7f7"
            ],
            [
             0.6,
             "#e6f5d0"
            ],
            [
             0.7,
             "#b8e186"
            ],
            [
             0.8,
             "#7fbc41"
            ],
            [
             0.9,
             "#4d9221"
            ],
            [
             1,
             "#276419"
            ]
           ],
           "sequential": [
            [
             0,
             "#0d0887"
            ],
            [
             0.1111111111111111,
             "#46039f"
            ],
            [
             0.2222222222222222,
             "#7201a8"
            ],
            [
             0.3333333333333333,
             "#9c179e"
            ],
            [
             0.4444444444444444,
             "#bd3786"
            ],
            [
             0.5555555555555556,
             "#d8576b"
            ],
            [
             0.6666666666666666,
             "#ed7953"
            ],
            [
             0.7777777777777778,
             "#fb9f3a"
            ],
            [
             0.8888888888888888,
             "#fdca26"
            ],
            [
             1,
             "#f0f921"
            ]
           ],
           "sequentialminus": [
            [
             0,
             "#0d0887"
            ],
            [
             0.1111111111111111,
             "#46039f"
            ],
            [
             0.2222222222222222,
             "#7201a8"
            ],
            [
             0.3333333333333333,
             "#9c179e"
            ],
            [
             0.4444444444444444,
             "#bd3786"
            ],
            [
             0.5555555555555556,
             "#d8576b"
            ],
            [
             0.6666666666666666,
             "#ed7953"
            ],
            [
             0.7777777777777778,
             "#fb9f3a"
            ],
            [
             0.8888888888888888,
             "#fdca26"
            ],
            [
             1,
             "#f0f921"
            ]
           ]
          },
          "colorway": [
           "#636efa",
           "#EF553B",
           "#00cc96",
           "#ab63fa",
           "#FFA15A",
           "#19d3f3",
           "#FF6692",
           "#B6E880",
           "#FF97FF",
           "#FECB52"
          ],
          "font": {
           "color": "#2a3f5f"
          },
          "geo": {
           "bgcolor": "white",
           "lakecolor": "white",
           "landcolor": "#E5ECF6",
           "showlakes": true,
           "showland": true,
           "subunitcolor": "white"
          },
          "hoverlabel": {
           "align": "left"
          },
          "hovermode": "closest",
          "mapbox": {
           "style": "light"
          },
          "paper_bgcolor": "white",
          "plot_bgcolor": "#E5ECF6",
          "polar": {
           "angularaxis": {
            "gridcolor": "white",
            "linecolor": "white",
            "ticks": ""
           },
           "bgcolor": "#E5ECF6",
           "radialaxis": {
            "gridcolor": "white",
            "linecolor": "white",
            "ticks": ""
           }
          },
          "scene": {
           "xaxis": {
            "backgroundcolor": "#E5ECF6",
            "gridcolor": "white",
            "gridwidth": 2,
            "linecolor": "white",
            "showbackground": true,
            "ticks": "",
            "zerolinecolor": "white"
           },
           "yaxis": {
            "backgroundcolor": "#E5ECF6",
            "gridcolor": "white",
            "gridwidth": 2,
            "linecolor": "white",
            "showbackground": true,
            "ticks": "",
            "zerolinecolor": "white"
           },
           "zaxis": {
            "backgroundcolor": "#E5ECF6",
            "gridcolor": "white",
            "gridwidth": 2,
            "linecolor": "white",
            "showbackground": true,
            "ticks": "",
            "zerolinecolor": "white"
           }
          },
          "shapedefaults": {
           "line": {
            "color": "#2a3f5f"
           }
          },
          "ternary": {
           "aaxis": {
            "gridcolor": "white",
            "linecolor": "white",
            "ticks": ""
           },
           "baxis": {
            "gridcolor": "white",
            "linecolor": "white",
            "ticks": ""
           },
           "bgcolor": "#E5ECF6",
           "caxis": {
            "gridcolor": "white",
            "linecolor": "white",
            "ticks": ""
           }
          },
          "title": {
           "x": 0.05
          },
          "xaxis": {
           "automargin": true,
           "gridcolor": "white",
           "linecolor": "white",
           "ticks": "",
           "title": {
            "standoff": 15
           },
           "zerolinecolor": "white",
           "zerolinewidth": 2
          },
          "yaxis": {
           "automargin": true,
           "gridcolor": "white",
           "linecolor": "white",
           "ticks": "",
           "title": {
            "standoff": 15
           },
           "zerolinecolor": "white",
           "zerolinewidth": 2
          }
         }
        },
        "title": {
         "text": "log-log correlation Between Earnings and Revenue"
        },
        "width": 1000,
        "xaxis": {
         "anchor": "y",
         "domain": [
          0,
          1
         ],
         "title": {
          "text": "Revenue"
         },
         "type": "log"
        },
        "yaxis": {
         "anchor": "x",
         "domain": [
          0,
          1
         ],
         "title": {
          "text": "earnings"
         },
         "type": "log"
        }
       }
      },
      "text/html": [
       "<div>                            <div id=\"6f6cdef9-e791-4dfb-8cda-adc0ecfcd43f\" class=\"plotly-graph-div\" style=\"height:600px; width:1000px;\"></div>            <script type=\"text/javascript\">                require([\"plotly\"], function(Plotly) {                    window.PLOTLYENV=window.PLOTLYENV || {};                                    if (document.getElementById(\"6f6cdef9-e791-4dfb-8cda-adc0ecfcd43f\")) {                    Plotly.newPlot(                        \"6f6cdef9-e791-4dfb-8cda-adc0ecfcd43f\",                        [{\"hovertemplate\":\"<b>%{hovertext}</b><br><br>country=Poland<br>Revenue=%{x}<br>earnings=%{y}<br>employeeCount=%{marker.size}<extra></extra>\",\"hovertext\":[\"11 bit studios\",\"CD Projekt\",\"CI Games\",\"People Can Fly\",\"PlayWay\",\"Ten Square Games\"],\"legendgroup\":\"Poland\",\"marker\":{\"color\":\"#636efa\",\"size\":[192,1177,156,281,0,147],\"sizemode\":\"area\",\"sizeref\":50.27777777777778,\"symbol\":\"circle\"},\"mode\":\"markers\",\"name\":\"Poland\",\"orientation\":\"v\",\"showlegend\":true,\"x\":[17777847.0,225248046.0,26872479.0,45624454.0,59061815.0,160651221.0],\"xaxis\":\"x\",\"y\":[8147710,56327200,10903800,16585000,39553600,41661100],\"yaxis\":\"y\",\"type\":\"scatter\"},{\"hovertemplate\":\"<b>%{hovertext}</b><br><br>country=United States<br>Revenue=%{x}<br>earnings=%{y}<br>employeeCount=%{marker.size}<extra></extra>\",\"hovertext\":[\"Activision Blizzard\",\"Corsair Gaming\",\"DoubleDown Interactive\",\"Electronic Arts\",\"Microsoft\",\"Razer\",\"SciPlay\",\"Take 2 Interactive\"],\"legendgroup\":\"United States\",\"marker\":{\"color\":\"#EF553B\",\"size\":[9500,2490,281,11000,181000,1526,511,6495],\"sizemode\":\"area\",\"sizeref\":50.27777777777778,\"symbol\":\"circle\"},\"mode\":\"markers\",\"name\":\"United States\",\"orientation\":\"v\",\"showlegend\":true,\"x\":[8297000000.0,1755337000.0,352024000.0,6991000000.0,192557000000.0,1619590000.0,613000000.0,3504800000.0],\"xaxis\":\"x\",\"y\":[2972000000,64385000,100996000,1131000000,84754000000,55114000,159400000,485926000],\"yaxis\":\"y\",\"type\":\"scatter\"},{\"hovertemplate\":\"<b>%{hovertext}</b><br><br>country=Japan<br>Revenue=%{x}<br>earnings=%{y}<br>employeeCount=%{marker.size}<extra></extra>\",\"hovertext\":[\"Appirits\",\"Bandai Namco\",\"Bushiroad\",\"Capcom\",\"COLOPL\",\"CyberAgent\",\"DeNA\",\"Drecom\",\"enish\",\"geechs\",\"Gree\",\"GungHo Online Entertainment\",\"Koei Tecmo\",\"Konami Holdings\",\"Marvelous\",\"Mixi\",\"Nexon\",\"Nintendo\",\"Sega Sammy Holdings\",\"Sony\",\"Square Enix\"],\"legendgroup\":\"Japan\",\"marker\":{\"color\":\"#00cc96\",\"size\":[411,9550,620,3152,1449,5944,2100,384,100,357,1543,1335,0,4982,582,1168,0,6574,7535,109700,5550],\"sizemode\":\"area\",\"sizeref\":50.27777777777778,\"symbol\":\"circle\"},\"mode\":\"markers\",\"name\":\"Japan\",\"orientation\":\"v\",\"showlegend\":true,\"x\":[42747761.0,7366324185.0,342970528.0,1064662967.0,291985856.0,6397828877.0,1190576400.0,96103805.0,40628336.0,49215086.0,588734186.0,866924595.0,641069954.0,2642404071.0,243161457.0,1006787371.0,2402217692.0,14875313016.0,2709650435.0,86483521753.0,3149372304.0],\"xaxis\":\"x\",\"y\":[1591300,855030000,24925400,421968000,37798600,997504000,305924000,15348600,1383920,10611300,109218000,294615000,286464000,499832000,47522000,167772000,1168310000,6022310000,307653000,10806300000,579566000],\"yaxis\":\"y\",\"type\":\"scatter\"},{\"hovertemplate\":\"<b>%{hovertext}</b><br><br>country=Australia<br>Revenue=%{x}<br>earnings=%{y}<br>employeeCount=%{marker.size}<extra></extra>\",\"hovertext\":[\"Aristocrat\"],\"legendgroup\":\"Australia\",\"marker\":{\"color\":\"#ab63fa\",\"size\":[7000],\"sizemode\":\"area\",\"sizeref\":50.27777777777778,\"symbol\":\"circle\"},\"mode\":\"markers\",\"name\":\"Australia\",\"orientation\":\"v\",\"showlegend\":true,\"x\":[3433941253.0],\"xaxis\":\"x\",\"y\":[778411000],\"yaxis\":\"y\",\"type\":\"scatter\"},{\"hovertemplate\":\"<b>%{hovertext}</b><br><br>country=China<br>Revenue=%{x}<br>earnings=%{y}<br>employeeCount=%{marker.size}<extra></extra>\",\"hovertext\":[\"Blue Hat\",\"NetEase\",\"Perfect World Entertainment\",\"Tencent\"],\"legendgroup\":\"China\",\"marker\":{\"color\":\"#FFA15A\",\"size\":[110,28239,5665,112771],\"sizemode\":\"area\",\"sizeref\":50.27777777777778,\"symbol\":\"circle\"},\"mode\":\"markers\",\"name\":\"China\",\"orientation\":\"v\",\"showlegend\":true,\"x\":[52627727.0,13553078918.0,1311664606.0,86616693449.0],\"xaxis\":\"x\",\"y\":[12263800,2538860000,106448000,39673900000],\"yaxis\":\"y\",\"type\":\"scatter\"},{\"hovertemplate\":\"<b>%{hovertext}</b><br><br>country=Italy<br>Revenue=%{x}<br>earnings=%{y}<br>employeeCount=%{marker.size}<extra></extra>\",\"hovertext\":[\"Digital Bros\"],\"legendgroup\":\"Italy\",\"marker\":{\"color\":\"#19d3f3\",\"size\":[330],\"sizemode\":\"area\",\"sizeref\":50.27777777777778,\"symbol\":\"circle\"},\"mode\":\"markers\",\"name\":\"Italy\",\"orientation\":\"v\",\"showlegend\":true,\"x\":[143969494.0],\"xaxis\":\"x\",\"y\":[32903700],\"yaxis\":\"y\",\"type\":\"scatter\"},{\"hovertemplate\":\"<b>%{hovertext}</b><br><br>country=Isle of Man<br>Revenue=%{x}<br>earnings=%{y}<br>employeeCount=%{marker.size}<extra></extra>\",\"hovertext\":[\"Entain\",\"Playtech\"],\"legendgroup\":\"Isle of Man\",\"marker\":{\"color\":\"#FF6692\",\"size\":[13849,7000],\"sizemode\":\"area\",\"sizeref\":50.27777777777778,\"symbol\":\"circle\"},\"mode\":\"markers\",\"name\":\"Isle of Man\",\"orientation\":\"v\",\"showlegend\":true,\"x\":[5169877030.0,1365118913.0],\"xaxis\":\"x\",\"y\":[634828000,739071000],\"yaxis\":\"y\",\"type\":\"scatter\"},{\"hovertemplate\":\"<b>%{hovertext}</b><br><br>country=France<br>Revenue=%{x}<br>earnings=%{y}<br>employeeCount=%{marker.size}<extra></extra>\",\"hovertext\":[\"Focus Home Interactive\",\"Nacon\",\"Ubisoft\"],\"legendgroup\":\"France\",\"marker\":{\"color\":\"#B6E880\",\"size\":[146,700,0],\"sizemode\":\"area\",\"sizeref\":50.27777777777778,\"symbol\":\"circle\"},\"mode\":\"markers\",\"name\":\"France\",\"orientation\":\"v\",\"showlegend\":true,\"x\":[193653454.0,201398641.0,2240590406.0],\"xaxis\":\"x\",\"y\":[22909400,30559500,227833000],\"yaxis\":\"y\",\"type\":\"scatter\"},{\"hovertemplate\":\"<b>%{hovertext}</b><br><br>country=United Kingdom<br>Revenue=%{x}<br>earnings=%{y}<br>employeeCount=%{marker.size}<extra></extra>\",\"hovertext\":[\"Frontier Developments\",\"Team17\"],\"legendgroup\":\"United Kingdom\",\"marker\":{\"color\":\"#FF97FF\",\"size\":[745,262],\"sizemode\":\"area\",\"sizeref\":50.27777777777778,\"symbol\":\"circle\"},\"mode\":\"markers\",\"name\":\"United Kingdom\",\"orientation\":\"v\",\"showlegend\":true,\"x\":[122414049.0,122172428.0],\"xaxis\":\"x\",\"y\":[26883400,39486800],\"yaxis\":\"y\",\"type\":\"scatter\"},{\"hovertemplate\":\"<b>%{hovertext}</b><br><br>country=South Korea<br>Revenue=%{x}<br>earnings=%{y}<br>employeeCount=%{marker.size}<extra></extra>\",\"hovertext\":[\"Gravity Co.\",\"Krafton\",\"NCsoft\",\"Netmarble\"],\"legendgroup\":\"South Korea\",\"marker\":{\"color\":\"#FECB52\",\"size\":[279,1487,0,0],\"sizemode\":\"area\",\"sizeref\":50.27777777777778,\"symbol\":\"circle\"},\"mode\":\"markers\",\"name\":\"South Korea\",\"orientation\":\"v\",\"showlegend\":true,\"x\":[320380802.0,1651127316.0,2187239109.0,2175712305.0],\"xaxis\":\"x\",\"y\":[81585000,885671000,1002590000,212466000],\"yaxis\":\"y\",\"type\":\"scatter\"},{\"hovertemplate\":\"<b>%{hovertext}</b><br><br>country=Ireland<br>Revenue=%{x}<br>earnings=%{y}<br>employeeCount=%{marker.size}<extra></extra>\",\"hovertext\":[\"Keywords Studios\"],\"legendgroup\":\"Ireland\",\"marker\":{\"color\":\"#636efa\",\"size\":[7400],\"sizemode\":\"area\",\"sizeref\":50.27777777777778,\"symbol\":\"circle\"},\"mode\":\"markers\",\"name\":\"Ireland\",\"orientation\":\"v\",\"showlegend\":true,\"x\":[580067950.0],\"xaxis\":\"x\",\"y\":[58765600],\"yaxis\":\"y\",\"type\":\"scatter\"},{\"hovertemplate\":\"<b>%{hovertext}</b><br><br>country=India<br>Revenue=%{x}<br>earnings=%{y}<br>employeeCount=%{marker.size}<extra></extra>\",\"hovertext\":[\"Nazara Technologies\"],\"legendgroup\":\"India\",\"marker\":{\"color\":\"#EF553B\",\"size\":[0],\"sizemode\":\"area\",\"sizeref\":50.27777777777778,\"symbol\":\"circle\"},\"mode\":\"markers\",\"name\":\"India\",\"orientation\":\"v\",\"showlegend\":true,\"x\":[61949879.0],\"xaxis\":\"x\",\"y\":[4193680],\"yaxis\":\"y\",\"type\":\"scatter\"},{\"hovertemplate\":\"<b>%{hovertext}</b><br><br>country=Sweden<br>Revenue=%{x}<br>earnings=%{y}<br>employeeCount=%{marker.size}<extra></extra>\",\"hovertext\":[\"Paradox Interactive\"],\"legendgroup\":\"Sweden\",\"marker\":{\"color\":\"#00cc96\",\"size\":[742],\"sizemode\":\"area\",\"sizeref\":50.27777777777778,\"symbol\":\"circle\"},\"mode\":\"markers\",\"name\":\"Sweden\",\"orientation\":\"v\",\"showlegend\":true,\"x\":[174940986.0],\"xaxis\":\"x\",\"y\":[47011200],\"yaxis\":\"y\",\"type\":\"scatter\"},{\"hovertemplate\":\"<b>%{hovertext}</b><br><br>country=Israel<br>Revenue=%{x}<br>earnings=%{y}<br>employeeCount=%{marker.size}<extra></extra>\",\"hovertext\":[\"Playtika\"],\"legendgroup\":\"Israel\",\"marker\":{\"color\":\"#ab63fa\",\"size\":[3800],\"sizemode\":\"area\",\"sizeref\":50.27777777777778,\"symbol\":\"circle\"},\"mode\":\"markers\",\"name\":\"Israel\",\"orientation\":\"v\",\"showlegend\":true,\"x\":[2621000000.0],\"xaxis\":\"x\",\"y\":[547100000],\"yaxis\":\"y\",\"type\":\"scatter\"},{\"hovertemplate\":\"<b>%{hovertext}</b><br><br>country=Finland<br>Revenue=%{x}<br>earnings=%{y}<br>employeeCount=%{marker.size}<extra></extra>\",\"hovertext\":[\"Rovio Entertainment\"],\"legendgroup\":\"Finland\",\"marker\":{\"color\":\"#FFA15A\",\"size\":[479],\"sizemode\":\"area\",\"sizeref\":50.27777777777778,\"symbol\":\"circle\"},\"mode\":\"markers\",\"name\":\"Finland\",\"orientation\":\"v\",\"showlegend\":true,\"x\":[348977951.0],\"xaxis\":\"x\",\"y\":[44455300],\"yaxis\":\"y\",\"type\":\"scatter\"}],                        {\"template\":{\"data\":{\"histogram2dcontour\":[{\"type\":\"histogram2dcontour\",\"colorbar\":{\"outlinewidth\":0,\"ticks\":\"\"},\"colorscale\":[[0.0,\"#0d0887\"],[0.1111111111111111,\"#46039f\"],[0.2222222222222222,\"#7201a8\"],[0.3333333333333333,\"#9c179e\"],[0.4444444444444444,\"#bd3786\"],[0.5555555555555556,\"#d8576b\"],[0.6666666666666666,\"#ed7953\"],[0.7777777777777778,\"#fb9f3a\"],[0.8888888888888888,\"#fdca26\"],[1.0,\"#f0f921\"]]}],\"choropleth\":[{\"type\":\"choropleth\",\"colorbar\":{\"outlinewidth\":0,\"ticks\":\"\"}}],\"histogram2d\":[{\"type\":\"histogram2d\",\"colorbar\":{\"outlinewidth\":0,\"ticks\":\"\"},\"colorscale\":[[0.0,\"#0d0887\"],[0.1111111111111111,\"#46039f\"],[0.2222222222222222,\"#7201a8\"],[0.3333333333333333,\"#9c179e\"],[0.4444444444444444,\"#bd3786\"],[0.5555555555555556,\"#d8576b\"],[0.6666666666666666,\"#ed7953\"],[0.7777777777777778,\"#fb9f3a\"],[0.8888888888888888,\"#fdca26\"],[1.0,\"#f0f921\"]]}],\"heatmap\":[{\"type\":\"heatmap\",\"colorbar\":{\"outlinewidth\":0,\"ticks\":\"\"},\"colorscale\":[[0.0,\"#0d0887\"],[0.1111111111111111,\"#46039f\"],[0.2222222222222222,\"#7201a8\"],[0.3333333333333333,\"#9c179e\"],[0.4444444444444444,\"#bd3786\"],[0.5555555555555556,\"#d8576b\"],[0.6666666666666666,\"#ed7953\"],[0.7777777777777778,\"#fb9f3a\"],[0.8888888888888888,\"#fdca26\"],[1.0,\"#f0f921\"]]}],\"heatmapgl\":[{\"type\":\"heatmapgl\",\"colorbar\":{\"outlinewidth\":0,\"ticks\":\"\"},\"colorscale\":[[0.0,\"#0d0887\"],[0.1111111111111111,\"#46039f\"],[0.2222222222222222,\"#7201a8\"],[0.3333333333333333,\"#9c179e\"],[0.4444444444444444,\"#bd3786\"],[0.5555555555555556,\"#d8576b\"],[0.6666666666666666,\"#ed7953\"],[0.7777777777777778,\"#fb9f3a\"],[0.8888888888888888,\"#fdca26\"],[1.0,\"#f0f921\"]]}],\"contourcarpet\":[{\"type\":\"contourcarpet\",\"colorbar\":{\"outlinewidth\":0,\"ticks\":\"\"}}],\"contour\":[{\"type\":\"contour\",\"colorbar\":{\"outlinewidth\":0,\"ticks\":\"\"},\"colorscale\":[[0.0,\"#0d0887\"],[0.1111111111111111,\"#46039f\"],[0.2222222222222222,\"#7201a8\"],[0.3333333333333333,\"#9c179e\"],[0.4444444444444444,\"#bd3786\"],[0.5555555555555556,\"#d8576b\"],[0.6666666666666666,\"#ed7953\"],[0.7777777777777778,\"#fb9f3a\"],[0.8888888888888888,\"#fdca26\"],[1.0,\"#f0f921\"]]}],\"surface\":[{\"type\":\"surface\",\"colorbar\":{\"outlinewidth\":0,\"ticks\":\"\"},\"colorscale\":[[0.0,\"#0d0887\"],[0.1111111111111111,\"#46039f\"],[0.2222222222222222,\"#7201a8\"],[0.3333333333333333,\"#9c179e\"],[0.4444444444444444,\"#bd3786\"],[0.5555555555555556,\"#d8576b\"],[0.6666666666666666,\"#ed7953\"],[0.7777777777777778,\"#fb9f3a\"],[0.8888888888888888,\"#fdca26\"],[1.0,\"#f0f921\"]]}],\"mesh3d\":[{\"type\":\"mesh3d\",\"colorbar\":{\"outlinewidth\":0,\"ticks\":\"\"}}],\"scatter\":[{\"fillpattern\":{\"fillmode\":\"overlay\",\"size\":10,\"solidity\":0.2},\"type\":\"scatter\"}],\"parcoords\":[{\"type\":\"parcoords\",\"line\":{\"colorbar\":{\"outlinewidth\":0,\"ticks\":\"\"}}}],\"scatterpolargl\":[{\"type\":\"scatterpolargl\",\"marker\":{\"colorbar\":{\"outlinewidth\":0,\"ticks\":\"\"}}}],\"bar\":[{\"error_x\":{\"color\":\"#2a3f5f\"},\"error_y\":{\"color\":\"#2a3f5f\"},\"marker\":{\"line\":{\"color\":\"#E5ECF6\",\"width\":0.5},\"pattern\":{\"fillmode\":\"overlay\",\"size\":10,\"solidity\":0.2}},\"type\":\"bar\"}],\"scattergeo\":[{\"type\":\"scattergeo\",\"marker\":{\"colorbar\":{\"outlinewidth\":0,\"ticks\":\"\"}}}],\"scatterpolar\":[{\"type\":\"scatterpolar\",\"marker\":{\"colorbar\":{\"outlinewidth\":0,\"ticks\":\"\"}}}],\"histogram\":[{\"marker\":{\"pattern\":{\"fillmode\":\"overlay\",\"size\":10,\"solidity\":0.2}},\"type\":\"histogram\"}],\"scattergl\":[{\"type\":\"scattergl\",\"marker\":{\"colorbar\":{\"outlinewidth\":0,\"ticks\":\"\"}}}],\"scatter3d\":[{\"type\":\"scatter3d\",\"line\":{\"colorbar\":{\"outlinewidth\":0,\"ticks\":\"\"}},\"marker\":{\"colorbar\":{\"outlinewidth\":0,\"ticks\":\"\"}}}],\"scattermapbox\":[{\"type\":\"scattermapbox\",\"marker\":{\"colorbar\":{\"outlinewidth\":0,\"ticks\":\"\"}}}],\"scatterternary\":[{\"type\":\"scatterternary\",\"marker\":{\"colorbar\":{\"outlinewidth\":0,\"ticks\":\"\"}}}],\"scattercarpet\":[{\"type\":\"scattercarpet\",\"marker\":{\"colorbar\":{\"outlinewidth\":0,\"ticks\":\"\"}}}],\"carpet\":[{\"aaxis\":{\"endlinecolor\":\"#2a3f5f\",\"gridcolor\":\"white\",\"linecolor\":\"white\",\"minorgridcolor\":\"white\",\"startlinecolor\":\"#2a3f5f\"},\"baxis\":{\"endlinecolor\":\"#2a3f5f\",\"gridcolor\":\"white\",\"linecolor\":\"white\",\"minorgridcolor\":\"white\",\"startlinecolor\":\"#2a3f5f\"},\"type\":\"carpet\"}],\"table\":[{\"cells\":{\"fill\":{\"color\":\"#EBF0F8\"},\"line\":{\"color\":\"white\"}},\"header\":{\"fill\":{\"color\":\"#C8D4E3\"},\"line\":{\"color\":\"white\"}},\"type\":\"table\"}],\"barpolar\":[{\"marker\":{\"line\":{\"color\":\"#E5ECF6\",\"width\":0.5},\"pattern\":{\"fillmode\":\"overlay\",\"size\":10,\"solidity\":0.2}},\"type\":\"barpolar\"}],\"pie\":[{\"automargin\":true,\"type\":\"pie\"}]},\"layout\":{\"autotypenumbers\":\"strict\",\"colorway\":[\"#636efa\",\"#EF553B\",\"#00cc96\",\"#ab63fa\",\"#FFA15A\",\"#19d3f3\",\"#FF6692\",\"#B6E880\",\"#FF97FF\",\"#FECB52\"],\"font\":{\"color\":\"#2a3f5f\"},\"hovermode\":\"closest\",\"hoverlabel\":{\"align\":\"left\"},\"paper_bgcolor\":\"white\",\"plot_bgcolor\":\"#E5ECF6\",\"polar\":{\"bgcolor\":\"#E5ECF6\",\"angularaxis\":{\"gridcolor\":\"white\",\"linecolor\":\"white\",\"ticks\":\"\"},\"radialaxis\":{\"gridcolor\":\"white\",\"linecolor\":\"white\",\"ticks\":\"\"}},\"ternary\":{\"bgcolor\":\"#E5ECF6\",\"aaxis\":{\"gridcolor\":\"white\",\"linecolor\":\"white\",\"ticks\":\"\"},\"baxis\":{\"gridcolor\":\"white\",\"linecolor\":\"white\",\"ticks\":\"\"},\"caxis\":{\"gridcolor\":\"white\",\"linecolor\":\"white\",\"ticks\":\"\"}},\"coloraxis\":{\"colorbar\":{\"outlinewidth\":0,\"ticks\":\"\"}},\"colorscale\":{\"sequential\":[[0.0,\"#0d0887\"],[0.1111111111111111,\"#46039f\"],[0.2222222222222222,\"#7201a8\"],[0.3333333333333333,\"#9c179e\"],[0.4444444444444444,\"#bd3786\"],[0.5555555555555556,\"#d8576b\"],[0.6666666666666666,\"#ed7953\"],[0.7777777777777778,\"#fb9f3a\"],[0.8888888888888888,\"#fdca26\"],[1.0,\"#f0f921\"]],\"sequentialminus\":[[0.0,\"#0d0887\"],[0.1111111111111111,\"#46039f\"],[0.2222222222222222,\"#7201a8\"],[0.3333333333333333,\"#9c179e\"],[0.4444444444444444,\"#bd3786\"],[0.5555555555555556,\"#d8576b\"],[0.6666666666666666,\"#ed7953\"],[0.7777777777777778,\"#fb9f3a\"],[0.8888888888888888,\"#fdca26\"],[1.0,\"#f0f921\"]],\"diverging\":[[0,\"#8e0152\"],[0.1,\"#c51b7d\"],[0.2,\"#de77ae\"],[0.3,\"#f1b6da\"],[0.4,\"#fde0ef\"],[0.5,\"#f7f7f7\"],[0.6,\"#e6f5d0\"],[0.7,\"#b8e186\"],[0.8,\"#7fbc41\"],[0.9,\"#4d9221\"],[1,\"#276419\"]]},\"xaxis\":{\"gridcolor\":\"white\",\"linecolor\":\"white\",\"ticks\":\"\",\"title\":{\"standoff\":15},\"zerolinecolor\":\"white\",\"automargin\":true,\"zerolinewidth\":2},\"yaxis\":{\"gridcolor\":\"white\",\"linecolor\":\"white\",\"ticks\":\"\",\"title\":{\"standoff\":15},\"zerolinecolor\":\"white\",\"automargin\":true,\"zerolinewidth\":2},\"scene\":{\"xaxis\":{\"backgroundcolor\":\"#E5ECF6\",\"gridcolor\":\"white\",\"linecolor\":\"white\",\"showbackground\":true,\"ticks\":\"\",\"zerolinecolor\":\"white\",\"gridwidth\":2},\"yaxis\":{\"backgroundcolor\":\"#E5ECF6\",\"gridcolor\":\"white\",\"linecolor\":\"white\",\"showbackground\":true,\"ticks\":\"\",\"zerolinecolor\":\"white\",\"gridwidth\":2},\"zaxis\":{\"backgroundcolor\":\"#E5ECF6\",\"gridcolor\":\"white\",\"linecolor\":\"white\",\"showbackground\":true,\"ticks\":\"\",\"zerolinecolor\":\"white\",\"gridwidth\":2}},\"shapedefaults\":{\"line\":{\"color\":\"#2a3f5f\"}},\"annotationdefaults\":{\"arrowcolor\":\"#2a3f5f\",\"arrowhead\":0,\"arrowwidth\":1},\"geo\":{\"bgcolor\":\"white\",\"landcolor\":\"#E5ECF6\",\"subunitcolor\":\"white\",\"showland\":true,\"showlakes\":true,\"lakecolor\":\"white\"},\"title\":{\"x\":0.05},\"mapbox\":{\"style\":\"light\"}}},\"xaxis\":{\"anchor\":\"y\",\"domain\":[0.0,1.0],\"title\":{\"text\":\"Revenue\"},\"type\":\"log\"},\"yaxis\":{\"anchor\":\"x\",\"domain\":[0.0,1.0],\"title\":{\"text\":\"earnings\"},\"type\":\"log\"},\"legend\":{\"title\":{\"text\":\"country\"},\"tracegroupgap\":0,\"itemsizing\":\"constant\"},\"title\":{\"text\":\"log-log correlation Between Earnings and Revenue\"},\"height\":600,\"width\":1000},                        {\"responsive\": true}                    ).then(function(){\n",
       "                            \n",
       "var gd = document.getElementById('6f6cdef9-e791-4dfb-8cda-adc0ecfcd43f');\n",
       "var x = new MutationObserver(function (mutations, observer) {{\n",
       "        var display = window.getComputedStyle(gd).display;\n",
       "        if (!display || display === 'none') {{\n",
       "            console.log([gd, 'removed!']);\n",
       "            Plotly.purge(gd);\n",
       "            observer.disconnect();\n",
       "        }}\n",
       "}});\n",
       "\n",
       "// Listen for the removal of the full notebook cells\n",
       "var notebookContainer = gd.closest('#notebook-container');\n",
       "if (notebookContainer) {{\n",
       "    x.observe(notebookContainer, {childList: true});\n",
       "}}\n",
       "\n",
       "// Listen for the clearing of the current output cell\n",
       "var outputEl = gd.closest('.output');\n",
       "if (outputEl) {{\n",
       "    x.observe(outputEl, {childList: true});\n",
       "}}\n",
       "\n",
       "                        })                };                });            </script>        </div>"
      ]
     },
     "metadata": {},
     "output_type": "display_data"
    }
   ],
   "source": [
    "fig = px.scatter(df,\n",
    "               x=\"Revenue\",\n",
    "               y=\"earnings\",\n",
    "               size=\"employeeCount\", \n",
    "               color=\"country\",\n",
    "               width=1000,\n",
    "               height=600,\n",
    "               hover_name=\"Name\", \n",
    "               log_x=True, \n",
    "               log_y=True,\n",
    "               size_max=60,\n",
    "               title=\"log-log correlation Between Earnings and Revenue\")\n",
    "\n",
    "fig.show()"
   ]
  }
 ],
 "metadata": {
  "kernelspec": {
   "display_name": "Python 3.9.13 64-bit",
   "language": "python",
   "name": "python3"
  },
  "language_info": {
   "codemirror_mode": {
    "name": "ipython",
    "version": 3
   },
   "file_extension": ".py",
   "mimetype": "text/x-python",
   "name": "python",
   "nbconvert_exporter": "python",
   "pygments_lexer": "ipython3",
   "version": "3.9.13"
  },
  "orig_nbformat": 4,
  "vscode": {
   "interpreter": {
    "hash": "aee8b7b246df8f9039afb4144a1f6fd8d2ca17a180786b69acc140d282b71a49"
   }
  }
 },
 "nbformat": 4,
 "nbformat_minor": 2
}
